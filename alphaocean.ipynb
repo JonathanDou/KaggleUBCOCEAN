{
  "cells": [
    {
      "cell_type": "markdown",
      "metadata": {
        "id": "view-in-github",
        "colab_type": "text"
      },
      "source": [
        "<a href=\"https://colab.research.google.com/github/JonathanDou/KaggleUBCOCEAN/blob/main/alphaocean.ipynb\" target=\"_parent\"><img src=\"https://colab.research.google.com/assets/colab-badge.svg\" alt=\"Open In Colab\"/></a>"
      ]
    },
    {
      "cell_type": "markdown",
      "id": "bc3cc0d9",
      "metadata": {
        "papermill": {
          "duration": 0.006397,
          "end_time": "2024-01-03T06:24:19.544764",
          "exception": false,
          "start_time": "2024-01-03T06:24:19.538367",
          "status": "completed"
        },
        "tags": [],
        "id": "bc3cc0d9"
      },
      "source": [
        "PREPROCESSING SECTION"
      ]
    },
    {
      "cell_type": "code",
      "execution_count": null,
      "id": "7cff05b8",
      "metadata": {
        "execution": {
          "iopub.execute_input": "2024-01-03T06:24:19.558870Z",
          "iopub.status.busy": "2024-01-03T06:24:19.558527Z",
          "iopub.status.idle": "2024-01-03T06:24:19.572763Z",
          "shell.execute_reply": "2024-01-03T06:24:19.571944Z"
        },
        "papermill": {
          "duration": 0.024093,
          "end_time": "2024-01-03T06:24:19.575121",
          "exception": false,
          "start_time": "2024-01-03T06:24:19.551028",
          "status": "completed"
        },
        "tags": [],
        "id": "7cff05b8",
        "outputId": "9b467e91-5548-47b3-8e40-f24ea6f1bdd7"
      },
      "outputs": [
        {
          "data": {
            "text/plain": [
              "\"image_path = '/kaggle/input/UBC-OCEAN/train_images/13364.png'\\n\\n#12222 10896 10548 10077 12902 10252\\nImage.MAX_IMAGE_PIXELS = 9999999999\\n\\n# Load the image using PIL\\nimage = Image.open(image_path)\""
            ]
          },
          "execution_count": 1,
          "metadata": {},
          "output_type": "execute_result"
        }
      ],
      "source": [
        "#from PIL import Image\n",
        "\n",
        "'''image_path = '/kaggle/input/UBC-OCEAN/train_images/13364.png'\n",
        "\n",
        "#12222 10896 10548 10077 12902 10252\n",
        "Image.MAX_IMAGE_PIXELS = 9999999999\n",
        "\n",
        "# Load the image using PIL\n",
        "image = Image.open(image_path)'''"
      ]
    },
    {
      "cell_type": "code",
      "execution_count": null,
      "id": "8b6c2530",
      "metadata": {
        "execution": {
          "iopub.execute_input": "2024-01-03T06:24:19.590032Z",
          "iopub.status.busy": "2024-01-03T06:24:19.589716Z",
          "iopub.status.idle": "2024-01-03T06:24:19.593625Z",
          "shell.execute_reply": "2024-01-03T06:24:19.592705Z"
        },
        "papermill": {
          "duration": 0.01378,
          "end_time": "2024-01-03T06:24:19.595793",
          "exception": false,
          "start_time": "2024-01-03T06:24:19.582013",
          "status": "completed"
        },
        "tags": [],
        "id": "8b6c2530"
      },
      "outputs": [],
      "source": [
        "#resized_image = image.resize((1000,1000))\n",
        "#display(resized_image)"
      ]
    },
    {
      "cell_type": "code",
      "execution_count": null,
      "id": "dba2456d",
      "metadata": {
        "execution": {
          "iopub.execute_input": "2024-01-03T06:24:19.610762Z",
          "iopub.status.busy": "2024-01-03T06:24:19.610485Z",
          "iopub.status.idle": "2024-01-03T06:24:19.614280Z",
          "shell.execute_reply": "2024-01-03T06:24:19.613361Z"
        },
        "papermill": {
          "duration": 0.013714,
          "end_time": "2024-01-03T06:24:19.616415",
          "exception": false,
          "start_time": "2024-01-03T06:24:19.602701",
          "status": "completed"
        },
        "tags": [],
        "id": "dba2456d"
      },
      "outputs": [],
      "source": [
        "#import numpy as np\n",
        "#import matplotlib.pyplot as plt\n",
        "\n",
        "#img = np.array(image)"
      ]
    },
    {
      "cell_type": "code",
      "execution_count": null,
      "id": "3d6fdc59",
      "metadata": {
        "execution": {
          "iopub.execute_input": "2024-01-03T06:24:19.630776Z",
          "iopub.status.busy": "2024-01-03T06:24:19.630458Z",
          "iopub.status.idle": "2024-01-03T06:24:19.640248Z",
          "shell.execute_reply": "2024-01-03T06:24:19.639388Z"
        },
        "papermill": {
          "duration": 0.019359,
          "end_time": "2024-01-03T06:24:19.642346",
          "exception": false,
          "start_time": "2024-01-03T06:24:19.622987",
          "status": "completed"
        },
        "tags": [],
        "id": "3d6fdc59",
        "outputId": "dc3163d0-c15e-4729-d3b4-d506bbbcf60d"
      },
      "outputs": [
        {
          "data": {
            "text/plain": [
              "'n = 4\\n\\n#random sampling and filtering out bad images\\ndef sampleimages(image, size):\\n  print(\"getting samples...\")\\n\\n  blackt = 10\\n  whitet = 210\\n\\n  ratiot = 0.2 \\n\\n  fig = plt.figure(figsize=(size, size))\\n\\n  i = 0\\n    \\n  images = [] \\n\\n  while i < n*n:\\n\\n    x = np.random.randint(image.shape[0]-size)\\n    y = np.random.randint(image.shape[1]-size)\\n\\n    im = image[x:x+size,y:y+size,:]\\n\\n    blue, green, red = im[..., 0], im[..., 1], im[..., 2]\\n\\n    whites = len(im[(green > whitet) & (blue > whitet) & (red > whitet)])\\n    blacks = len(im[(green < blackt) & (blue < blackt) & (red < blackt)])\\n\\n    if whites + blacks > size*size*ratiot:\\n      continue\\n    \\n    \\n    plt.subplot(n, n, i+1)\\n    plt.imshow(image[x:x+size,y:y+size,:])\\n    plt.axis(\\'off\\')\\n\\n    i += 1\\n\\n    \\n\\ndef sampleimages2(image, size):\\n  \\n  print(\"getting samples...\")\\n    \\n  images = [] \\n    \\n  satt = 50 \\n  wt = 210\\n  bt = 5\\n\\n  scoret = 0.6 \\n  rt = 0\\n    \\n  #50 210 5 0.7 worked well\\n  #60 215 5 0.5 also\\n\\n  fig = plt.figure(figsize=(size, size))\\n\\n  i = 0\\n\\n  pits = 1000\\n  its = 1500 \\n\\n  images = []  \\n  scores = []\\n\\n  hscores = []\\n  hues = []\\n  \\n  redavgs = []\\n \\n  a = 0\\n\\n  while(a < pits):\\n\\n    x = np.random.randint(image.shape[0]-size)\\n    y = np.random.randint(image.shape[1]-size)\\n\\n    im = image[x:x+size,y:y+size,:]\\n    \\n    red = im[:,:,0]/255.0\\n    blue = im[:,:,2]/255.0\\n    \\n    hls = cv2.cvtColor(im, cv2.COLOR_RGB2HLS)\\n        \\n    h, l, s = hls[..., 0], hls[..., 1], hls[..., 2]\\n    \\n    nob = l > bt\\n    now = l < wt\\n    \\n    lscore = np.sum(nob & now)/(size * size) \\n    goodpix = nob & now \\n    \\n    if lscore < scoret:\\n        continue\\n    \\n    if a%100 == 0:\\n        print(\"test\")\\n    redavgs.append(np.mean(red - blue))\\n    a += 1\\n    \\n  redavg = np.mean(redavgs)\\n  redstd = np.std(redavgs)\\n\\n  while i < its:\\n\\n    x = np.random.randint(image.shape[0]-size)\\n    y = np.random.randint(image.shape[1]-size)\\n\\n    im = image[x:x+size,y:y+size,:]\\n    hls = cv2.cvtColor(im, cv2.COLOR_RGB2HLS)\\n        \\n    h, l, s = hls[..., 0], hls[..., 1], hls[..., 2]\\n    \\n    nob = l > bt\\n    now = l < wt\\n    sat = s > satt\\n    \\n    lscore = np.sum(nob & now)/(size * size) \\n    goodpix = nob & now & sat\\n    \\n    score = np.sum(goodpix)/(size * size)  \\n    \\n    red = im[:,:,0]/255.0\\n    blue = im[:,:,2]/255.0\\n    \\n    #MAKE STD AND AVG COLOR \\n    \\n    diff = np.mean(red - blue) \\n    redness = (diff - redavg) / redstd\\n    \\n    if redness > rt:\\n      continue\\n    \\n    i += 1 \\n    \\n    if i % 100 == 0:\\n        print(\"FOUND\")\\n    \\n    images.append(im)\\n    scores.append(score)\\n    hues.append(redness)\\n    \\n  s = np.argsort(scores)[::-1]\\n\\n  for i in range(n*n):\\n    plt.subplot(n, n, i+1)\\n    plt.imshow(images[s[i]])\\n    plt.axis(\\'off\\')\\n    \\n    print(\"score: \" + str(scores[s[i]]))\\n    print(hues[s[i]])'"
            ]
          },
          "execution_count": 4,
          "metadata": {},
          "output_type": "execute_result"
        }
      ],
      "source": [
        "#import cv2\n",
        "\n",
        "'''n = 4\n",
        "\n",
        "#random sampling and filtering out bad images\n",
        "def sampleimages(image, size):\n",
        "  print(\"getting samples...\")\n",
        "\n",
        "  blackt = 10\n",
        "  whitet = 210\n",
        "\n",
        "  ratiot = 0.2\n",
        "\n",
        "  fig = plt.figure(figsize=(size, size))\n",
        "\n",
        "  i = 0\n",
        "\n",
        "  images = []\n",
        "\n",
        "  while i < n*n:\n",
        "\n",
        "    x = np.random.randint(image.shape[0]-size)\n",
        "    y = np.random.randint(image.shape[1]-size)\n",
        "\n",
        "    im = image[x:x+size,y:y+size,:]\n",
        "\n",
        "    blue, green, red = im[..., 0], im[..., 1], im[..., 2]\n",
        "\n",
        "    whites = len(im[(green > whitet) & (blue > whitet) & (red > whitet)])\n",
        "    blacks = len(im[(green < blackt) & (blue < blackt) & (red < blackt)])\n",
        "\n",
        "    if whites + blacks > size*size*ratiot:\n",
        "      continue\n",
        "\n",
        "\n",
        "    plt.subplot(n, n, i+1)\n",
        "    plt.imshow(image[x:x+size,y:y+size,:])\n",
        "    plt.axis('off')\n",
        "\n",
        "    i += 1\n",
        "\n",
        "\n",
        "\n",
        "def sampleimages2(image, size):\n",
        "\n",
        "  print(\"getting samples...\")\n",
        "\n",
        "  images = []\n",
        "\n",
        "  satt = 50\n",
        "  wt = 210\n",
        "  bt = 5\n",
        "\n",
        "  scoret = 0.6\n",
        "  rt = 0\n",
        "\n",
        "  #50 210 5 0.7 worked well\n",
        "  #60 215 5 0.5 also\n",
        "\n",
        "  fig = plt.figure(figsize=(size, size))\n",
        "\n",
        "  i = 0\n",
        "\n",
        "  pits = 1000\n",
        "  its = 1500\n",
        "\n",
        "  images = []\n",
        "  scores = []\n",
        "\n",
        "  hscores = []\n",
        "  hues = []\n",
        "\n",
        "  redavgs = []\n",
        "\n",
        "  a = 0\n",
        "\n",
        "  while(a < pits):\n",
        "\n",
        "    x = np.random.randint(image.shape[0]-size)\n",
        "    y = np.random.randint(image.shape[1]-size)\n",
        "\n",
        "    im = image[x:x+size,y:y+size,:]\n",
        "\n",
        "    red = im[:,:,0]/255.0\n",
        "    blue = im[:,:,2]/255.0\n",
        "\n",
        "    hls = cv2.cvtColor(im, cv2.COLOR_RGB2HLS)\n",
        "\n",
        "    h, l, s = hls[..., 0], hls[..., 1], hls[..., 2]\n",
        "\n",
        "    nob = l > bt\n",
        "    now = l < wt\n",
        "\n",
        "    lscore = np.sum(nob & now)/(size * size)\n",
        "    goodpix = nob & now\n",
        "\n",
        "    if lscore < scoret:\n",
        "        continue\n",
        "\n",
        "    if a%100 == 0:\n",
        "        print(\"test\")\n",
        "    redavgs.append(np.mean(red - blue))\n",
        "    a += 1\n",
        "\n",
        "  redavg = np.mean(redavgs)\n",
        "  redstd = np.std(redavgs)\n",
        "\n",
        "  while i < its:\n",
        "\n",
        "    x = np.random.randint(image.shape[0]-size)\n",
        "    y = np.random.randint(image.shape[1]-size)\n",
        "\n",
        "    im = image[x:x+size,y:y+size,:]\n",
        "    hls = cv2.cvtColor(im, cv2.COLOR_RGB2HLS)\n",
        "\n",
        "    h, l, s = hls[..., 0], hls[..., 1], hls[..., 2]\n",
        "\n",
        "    nob = l > bt\n",
        "    now = l < wt\n",
        "    sat = s > satt\n",
        "\n",
        "    lscore = np.sum(nob & now)/(size * size)\n",
        "    goodpix = nob & now & sat\n",
        "\n",
        "    score = np.sum(goodpix)/(size * size)\n",
        "\n",
        "    red = im[:,:,0]/255.0\n",
        "    blue = im[:,:,2]/255.0\n",
        "\n",
        "    #MAKE STD AND AVG COLOR\n",
        "\n",
        "    diff = np.mean(red - blue)\n",
        "    redness = (diff - redavg) / redstd\n",
        "\n",
        "    if redness > rt:\n",
        "      continue\n",
        "\n",
        "    i += 1\n",
        "\n",
        "    if i % 100 == 0:\n",
        "        print(\"FOUND\")\n",
        "\n",
        "    images.append(im)\n",
        "    scores.append(score)\n",
        "    hues.append(redness)\n",
        "\n",
        "  s = np.argsort(scores)[::-1]\n",
        "\n",
        "  for i in range(n*n):\n",
        "    plt.subplot(n, n, i+1)\n",
        "    plt.imshow(images[s[i]])\n",
        "    plt.axis('off')\n",
        "\n",
        "    print(\"score: \" + str(scores[s[i]]))\n",
        "    print(hues[s[i]])'''"
      ]
    },
    {
      "cell_type": "code",
      "execution_count": null,
      "id": "cbc777b6",
      "metadata": {
        "execution": {
          "iopub.execute_input": "2024-01-03T06:24:19.656771Z",
          "iopub.status.busy": "2024-01-03T06:24:19.656527Z",
          "iopub.status.idle": "2024-01-03T06:24:19.660505Z",
          "shell.execute_reply": "2024-01-03T06:24:19.659605Z"
        },
        "papermill": {
          "duration": 0.013504,
          "end_time": "2024-01-03T06:24:19.662642",
          "exception": false,
          "start_time": "2024-01-03T06:24:19.649138",
          "status": "completed"
        },
        "tags": [],
        "id": "cbc777b6"
      },
      "outputs": [],
      "source": [
        "#sampleimages(img, 224)"
      ]
    },
    {
      "cell_type": "code",
      "execution_count": null,
      "id": "cbfecdb3",
      "metadata": {
        "execution": {
          "iopub.execute_input": "2024-01-03T06:24:19.676635Z",
          "iopub.status.busy": "2024-01-03T06:24:19.676366Z",
          "iopub.status.idle": "2024-01-03T06:24:19.680272Z",
          "shell.execute_reply": "2024-01-03T06:24:19.679352Z"
        },
        "papermill": {
          "duration": 0.013063,
          "end_time": "2024-01-03T06:24:19.682231",
          "exception": false,
          "start_time": "2024-01-03T06:24:19.669168",
          "status": "completed"
        },
        "tags": [],
        "id": "cbfecdb3"
      },
      "outputs": [],
      "source": [
        "#sampleimages2(img, 224)"
      ]
    },
    {
      "cell_type": "markdown",
      "id": "25d274a5",
      "metadata": {
        "papermill": {
          "duration": 0.006357,
          "end_time": "2024-01-03T06:24:19.694929",
          "exception": false,
          "start_time": "2024-01-03T06:24:19.688572",
          "status": "completed"
        },
        "tags": [],
        "id": "25d274a5"
      },
      "source": [
        "MODELS/TRAINING"
      ]
    },
    {
      "cell_type": "code",
      "execution_count": null,
      "id": "4f2df472",
      "metadata": {
        "execution": {
          "iopub.execute_input": "2024-01-03T06:24:19.709139Z",
          "iopub.status.busy": "2024-01-03T06:24:19.708363Z",
          "iopub.status.idle": "2024-01-03T06:24:19.712281Z",
          "shell.execute_reply": "2024-01-03T06:24:19.711465Z"
        },
        "papermill": {
          "duration": 0.012961,
          "end_time": "2024-01-03T06:24:19.714282",
          "exception": false,
          "start_time": "2024-01-03T06:24:19.701321",
          "status": "completed"
        },
        "tags": [],
        "id": "4f2df472"
      },
      "outputs": [],
      "source": [
        "BATCH_SIZE = 128"
      ]
    },
    {
      "cell_type": "code",
      "execution_count": null,
      "id": "4ec9f2d8",
      "metadata": {
        "execution": {
          "iopub.execute_input": "2024-01-03T06:24:19.728134Z",
          "iopub.status.busy": "2024-01-03T06:24:19.727806Z",
          "iopub.status.idle": "2024-01-03T06:24:19.734160Z",
          "shell.execute_reply": "2024-01-03T06:24:19.733360Z"
        },
        "papermill": {
          "duration": 0.015338,
          "end_time": "2024-01-03T06:24:19.736050",
          "exception": false,
          "start_time": "2024-01-03T06:24:19.720712",
          "status": "completed"
        },
        "tags": [],
        "id": "4ec9f2d8",
        "outputId": "01f34a09-bb5b-4709-cb2e-e1b923385bbb"
      },
      "outputs": [
        {
          "data": {
            "text/plain": [
              "'from keras.preprocessing.image import ImageDataGenerator\\n!pip install scipy\\n\\nimage_generator = ImageDataGenerator(rescale=1/255, validation_split=0.2)    \\n\\ntrain_generator = image_generator.flow_from_directory(batch_size=BATCH_SIZE,\\n                                                 directory=\\'/kaggle/input/classbased-new-dataset-300-224/classbased_new_dataset_300_224\\',\\n                                                 shuffle=True, \\n                                                 subset=\"training\",\\n                                                 class_mode=\\'categorical\\')\\n\\nvalidation_generator = image_generator.flow_from_directory(batch_size=BATCH_SIZE,\\n                                                 directory=\\'/kaggle/input/classbased-new-dataset-300-224/classbased_new_dataset_300_224\\',\\n                                                 shuffle=True,\\n                                                 subset=\"validation\",\\n                                                 class_mode=\\'categorical\\')'"
            ]
          },
          "execution_count": 8,
          "metadata": {},
          "output_type": "execute_result"
        }
      ],
      "source": [
        "'''from keras.preprocessing.image import ImageDataGenerator\n",
        "!pip install scipy\n",
        "\n",
        "image_generator = ImageDataGenerator(rescale=1/255, validation_split=0.2)\n",
        "\n",
        "train_generator = image_generator.flow_from_directory(batch_size=BATCH_SIZE,\n",
        "                                                 directory='/kaggle/input/classbased-new-dataset-300-224/classbased_new_dataset_300_224',\n",
        "                                                 shuffle=True,\n",
        "                                                 subset=\"training\",\n",
        "                                                 class_mode='categorical')\n",
        "\n",
        "validation_generator = image_generator.flow_from_directory(batch_size=BATCH_SIZE,\n",
        "                                                 directory='/kaggle/input/classbased-new-dataset-300-224/classbased_new_dataset_300_224',\n",
        "                                                 shuffle=True,\n",
        "                                                 subset=\"validation\",\n",
        "                                                 class_mode='categorical')'''"
      ]
    },
    {
      "cell_type": "code",
      "execution_count": null,
      "id": "d0a09a8a",
      "metadata": {
        "execution": {
          "iopub.execute_input": "2024-01-03T06:24:19.750101Z",
          "iopub.status.busy": "2024-01-03T06:24:19.749790Z",
          "iopub.status.idle": "2024-01-03T06:25:43.110600Z",
          "shell.execute_reply": "2024-01-03T06:25:43.109374Z"
        },
        "papermill": {
          "duration": 83.370802,
          "end_time": "2024-01-03T06:25:43.113186",
          "exception": false,
          "start_time": "2024-01-03T06:24:19.742384",
          "status": "completed"
        },
        "tags": [],
        "id": "d0a09a8a",
        "outputId": "00cd8ed5-3326-4ccd-fb30-b262825ebcca"
      },
      "outputs": [
        {
          "name": "stderr",
          "output_type": "stream",
          "text": [
            "/opt/conda/lib/python3.10/site-packages/scipy/__init__.py:146: UserWarning: A NumPy version >=1.16.5 and <1.23.0 is required for this version of SciPy (detected version 1.23.5\n",
            "  warnings.warn(f\"A NumPy version >={np_minversion} and <{np_maxversion}\"\n"
          ]
        },
        {
          "name": "stdout",
          "output_type": "stream",
          "text": [
            "Found 111556 files belonging to 5 classes.\n"
          ]
        },
        {
          "data": {
            "text/plain": [
              "'val_ds = build_dataset(\"/kaggle/input/classbased-12-30-23-split-cleaned/classbased_12_30_23_split/validation\")\\nvalid_size = val_ds.cardinality().numpy()\\nval_ds = val_ds.unbatch().batch(BATCH_SIZE)\\nval_ds = val_ds.map(lambda images, labels:\\n                    (normalization_layer(images), labels))'"
            ]
          },
          "execution_count": 9,
          "metadata": {},
          "output_type": "execute_result"
        }
      ],
      "source": [
        "import tensorflow as tf\n",
        "\n",
        "def build_dataset(dir):\n",
        "  return tf.keras.preprocessing.image_dataset_from_directory(\n",
        "      dir,\n",
        "      label_mode=\"categorical\",\n",
        "      # Seed needs to provided when using validation_split and shuffle = True.\n",
        "      # A fixed seed is used so that the validation set is stable across runs.\n",
        "      seed=123,\n",
        "      image_size=(224,224),\n",
        "      batch_size=1)\n",
        "\n",
        "train_ds = build_dataset(\"/kaggle/input/300-old-masked-tma-with-2/300_old_masked_tma_with_2\")\n",
        "class_names = tuple(train_ds.class_names)\n",
        "train_size = train_ds.cardinality().numpy()\n",
        "train_ds = train_ds.unbatch().batch(BATCH_SIZE)\n",
        "train_ds = train_ds.repeat()\n",
        "\n",
        "normalization_layer = tf.keras.layers.Rescaling(1. / 255)\n",
        "preprocessing_model = tf.keras.Sequential([normalization_layer])\n",
        "do_data_augmentation = False #@param {type:\"boolean\"}\n",
        "if do_data_augmentation:\n",
        "  preprocessing_model.add(\n",
        "      tf.keras.layers.RandomZoom(0.4, 0.4))\n",
        "  preprocessing_model.add(\n",
        "      tf.keras.layers.RandomFlip(mode=\"horizontal_and_vertical\"))\n",
        "  preprocessing_model.add(\n",
        "      tf.keras.layers.RandomRotation(0.5))\n",
        "  #preprocessing_model.add(\n",
        "      #tf.keras.layers.RandomContrast(0.2))\n",
        "  #preprocessing_model.add(\n",
        "  #    tf.keras.layers.RandomBrightness(0.2))\n",
        "train_ds = train_ds.map(lambda images, labels:\n",
        "                        (preprocessing_model(images), labels))\n",
        "\n",
        "'''val_ds = build_dataset(\"/kaggle/input/classbased-12-30-23-split-cleaned/classbased_12_30_23_split/validation\")\n",
        "valid_size = val_ds.cardinality().numpy()\n",
        "val_ds = val_ds.unbatch().batch(BATCH_SIZE)\n",
        "val_ds = val_ds.map(lambda images, labels:\n",
        "                    (normalization_layer(images), labels))'''"
      ]
    },
    {
      "cell_type": "code",
      "execution_count": null,
      "id": "30740f79",
      "metadata": {
        "execution": {
          "iopub.execute_input": "2024-01-03T06:25:43.128912Z",
          "iopub.status.busy": "2024-01-03T06:25:43.128589Z",
          "iopub.status.idle": "2024-01-03T06:25:55.728505Z",
          "shell.execute_reply": "2024-01-03T06:25:55.727543Z"
        },
        "papermill": {
          "duration": 12.609509,
          "end_time": "2024-01-03T06:25:55.730432",
          "exception": false,
          "start_time": "2024-01-03T06:25:43.120923",
          "status": "completed"
        },
        "tags": [],
        "id": "30740f79",
        "outputId": "1d0d032a-5e82-419c-aea8-2ad71b7b1a90"
      },
      "outputs": [
        {
          "name": "stdout",
          "output_type": "stream",
          "text": [
            "Model: \"sequential_1\"\n",
            "_________________________________________________________________\n",
            " Layer (type)                Output Shape              Param #   \n",
            "=================================================================\n",
            " keras_layer (KerasLayer)    (None, 1280)              20331360  \n",
            "                                                                 \n",
            " dense (Dense)               (None, 2048)              2623488   \n",
            "                                                                 \n",
            " batch_normalization (BatchN  (None, 2048)             8192      \n",
            " ormalization)                                                   \n",
            "                                                                 \n",
            " re_lu (ReLU)                (None, 2048)              0         \n",
            "                                                                 \n",
            " dropout (Dropout)           (None, 2048)              0         \n",
            "                                                                 \n",
            " dense_1 (Dense)             (None, 5)                 10245     \n",
            "                                                                 \n",
            " softmax (Softmax)           (None, 5)                 0         \n",
            "                                                                 \n",
            "=================================================================\n",
            "Total params: 22,973,285\n",
            "Trainable params: 2,637,829\n",
            "Non-trainable params: 20,335,456\n",
            "_________________________________________________________________\n"
          ]
        }
      ],
      "source": [
        "#import tensorflow as tf\n",
        "import tensorflow_hub as hub\n",
        "\n",
        "num_classes = 5\n",
        "model_handle = \"https://www.kaggle.com/models/google/efficientnet-v2/frameworks/TensorFlow2/variations/imagenet1k-s-feature-vector/versions/2\"\n",
        "\n",
        "'''m = tf.keras.Sequential([\n",
        "    #tf.keras.layers.RandomFlip(\"horizontal_and_vertical\"),\n",
        "    #tf.keras.layers.RandomRotation(0.5),\n",
        "    tf.keras.layers.InputLayer(input_shape=(224,224) + (3,)),\n",
        "    #hub.KerasLayer(\"https://www.kaggle.com/models/google/resnet-v2/frameworks/TensorFlow2/variations/152-feature-vector/versions/2\",\n",
        "    #               trainable=False),  # Can be True, see below.\n",
        "    hub.KerasLayer(model_handle, trainable=False),\n",
        "    #tf.keras.layers.Flatten(),\n",
        "    tf.keras.layers.Dense(num_classes),\n",
        "    tf.keras.layers.Softmax()\n",
        "])\n",
        "m.build([None, 224, 224, 3])'''\n",
        "model = tf.keras.Sequential([\n",
        "    # Explicitly define the input shape so the model can be properly\n",
        "    # loaded by the TFLiteConverter\n",
        "    tf.keras.layers.InputLayer(input_shape=(224,224) + (3,)),\n",
        "    hub.KerasLayer(model_handle, trainable=False),\n",
        "    tf.keras.layers.Dense(2048),\n",
        "    tf.keras.layers.BatchNormalization(),\n",
        "    tf.keras.layers.ReLU(),\n",
        "    tf.keras.layers.Dropout(0.5),\n",
        "    #tf.keras.layers.Dense(2048),\n",
        "    #tf.keras.layers.BatchNormalization(),\n",
        "    #tf.keras.layers.ReLU(),\n",
        "    #tf.keras.layers.Dropout(0.2),\n",
        "    tf.keras.layers.Dense(num_classes),\n",
        "    tf.keras.layers.Softmax()\n",
        "])\n",
        "model.build((None,)+(224,224)+(3,))\n",
        "model.summary()"
      ]
    },
    {
      "cell_type": "code",
      "execution_count": null,
      "id": "bab3e2d4",
      "metadata": {
        "execution": {
          "iopub.execute_input": "2024-01-03T06:25:55.748190Z",
          "iopub.status.busy": "2024-01-03T06:25:55.747863Z",
          "iopub.status.idle": "2024-01-03T06:25:55.755355Z",
          "shell.execute_reply": "2024-01-03T06:25:55.754488Z"
        },
        "papermill": {
          "duration": 0.018488,
          "end_time": "2024-01-03T06:25:55.757214",
          "exception": false,
          "start_time": "2024-01-03T06:25:55.738726",
          "status": "completed"
        },
        "tags": [],
        "id": "bab3e2d4",
        "outputId": "dd1bff72-4380-448a-da12-ee4ca89e7a07"
      },
      "outputs": [
        {
          "data": {
            "text/plain": [
              "'tf.keras.layers.Dense(2048),\\ntf.keras.layers.BatchNormalization(),\\ntf.keras.layers.ReLU(),\\ntf.keras.layers.Dropout(0.2),\\ntf.keras.layers.Dense(2048),\\ntf.keras.layers.BatchNormalization(),\\ntf.keras.layers.ReLU(),\\ntf.keras.layers.Dropout(0.2),'"
            ]
          },
          "execution_count": 11,
          "metadata": {},
          "output_type": "execute_result"
        }
      ],
      "source": [
        "'''tf.keras.layers.Dense(2048),\n",
        "tf.keras.layers.BatchNormalization(),\n",
        "tf.keras.layers.ReLU(),\n",
        "tf.keras.layers.Dropout(0.2),\n",
        "tf.keras.layers.Dense(2048),\n",
        "tf.keras.layers.BatchNormalization(),\n",
        "tf.keras.layers.ReLU(),\n",
        "tf.keras.layers.Dropout(0.2),'''"
      ]
    },
    {
      "cell_type": "code",
      "execution_count": null,
      "id": "217ab1f5",
      "metadata": {
        "execution": {
          "iopub.execute_input": "2024-01-03T06:25:55.775175Z",
          "iopub.status.busy": "2024-01-03T06:25:55.774900Z",
          "iopub.status.idle": "2024-01-03T06:25:55.778514Z",
          "shell.execute_reply": "2024-01-03T06:25:55.777705Z"
        },
        "papermill": {
          "duration": 0.014763,
          "end_time": "2024-01-03T06:25:55.780363",
          "exception": false,
          "start_time": "2024-01-03T06:25:55.765600",
          "status": "completed"
        },
        "tags": [],
        "id": "217ab1f5"
      },
      "outputs": [],
      "source": [
        "#m.summary()"
      ]
    },
    {
      "cell_type": "code",
      "execution_count": null,
      "id": "f57405fc",
      "metadata": {
        "execution": {
          "iopub.execute_input": "2024-01-03T06:25:55.797951Z",
          "iopub.status.busy": "2024-01-03T06:25:55.797656Z",
          "iopub.status.idle": "2024-01-03T06:25:55.801443Z",
          "shell.execute_reply": "2024-01-03T06:25:55.800592Z"
        },
        "papermill": {
          "duration": 0.014667,
          "end_time": "2024-01-03T06:25:55.803283",
          "exception": false,
          "start_time": "2024-01-03T06:25:55.788616",
          "status": "completed"
        },
        "tags": [],
        "id": "f57405fc"
      },
      "outputs": [],
      "source": [
        "EPOCHS = 10"
      ]
    },
    {
      "cell_type": "code",
      "execution_count": null,
      "id": "e3b6c7b6",
      "metadata": {
        "execution": {
          "iopub.execute_input": "2024-01-03T06:25:55.821270Z",
          "iopub.status.busy": "2024-01-03T06:25:55.821010Z",
          "iopub.status.idle": "2024-01-03T07:01:53.028074Z",
          "shell.execute_reply": "2024-01-03T07:01:53.027268Z"
        },
        "papermill": {
          "duration": 2157.218278,
          "end_time": "2024-01-03T07:01:53.030179",
          "exception": false,
          "start_time": "2024-01-03T06:25:55.811901",
          "status": "completed"
        },
        "tags": [],
        "id": "e3b6c7b6",
        "outputId": "880e0577-af74-447c-a515-a887f9478c96"
      },
      "outputs": [
        {
          "name": "stdout",
          "output_type": "stream",
          "text": [
            "Epoch 1/10\n",
            "871/871 [==============================] - 267s 284ms/step - loss: 0.9225 - accuracy: 0.6568\n",
            "Epoch 2/10\n",
            "871/871 [==============================] - 211s 241ms/step - loss: 0.7424 - accuracy: 0.7185\n",
            "Epoch 3/10\n",
            "871/871 [==============================] - 210s 241ms/step - loss: 0.6811 - accuracy: 0.7416\n",
            "Epoch 4/10\n",
            "871/871 [==============================] - 210s 241ms/step - loss: 0.6350 - accuracy: 0.7594\n",
            "Epoch 5/10\n",
            "871/871 [==============================] - 209s 240ms/step - loss: 0.5952 - accuracy: 0.7749\n",
            "Epoch 6/10\n",
            "871/871 [==============================] - 210s 241ms/step - loss: 0.5596 - accuracy: 0.7886\n",
            "Epoch 7/10\n",
            "871/871 [==============================] - 210s 241ms/step - loss: 0.5273 - accuracy: 0.8016\n",
            "Epoch 8/10\n",
            "871/871 [==============================] - 210s 241ms/step - loss: 0.4983 - accuracy: 0.8122\n",
            "Epoch 9/10\n",
            "871/871 [==============================] - 210s 241ms/step - loss: 0.4695 - accuracy: 0.8230\n",
            "Epoch 10/10\n",
            "871/871 [==============================] - 210s 241ms/step - loss: 0.4432 - accuracy: 0.8332\n"
          ]
        }
      ],
      "source": [
        "'''m.compile(optimizer='adam',\n",
        "              loss=tf.keras.losses.CategoricalCrossentropy(from_logits=False),\n",
        "              metrics=['accuracy'])'''\n",
        "model.compile(\n",
        "  optimizer=tf.keras.optimizers.AdamW(),\n",
        "  loss=tf.keras.losses.CategoricalCrossentropy(from_logits=False),\n",
        "  metrics=['accuracy'])\n",
        "\n",
        "steps_per_epoch = train_size // BATCH_SIZE\n",
        "\n",
        "checkpoint_filepath = 'model_checkpoint.h5'\n",
        "\n",
        "from tensorflow.keras.callbacks import ModelCheckpoint\n",
        "\n",
        "# Create a ModelCheckpoint callback\n",
        "model_checkpoint_callback = ModelCheckpoint(\n",
        "    filepath=checkpoint_filepath,\n",
        "    monitor='val_accuracy',  # Specify the metric to monitor\n",
        "    mode='max',  # Set to 'max' if you want to save the model when the monitored metric is maximized\n",
        "    save_best_only=True,  # Set to True if you only want to save the best model\n",
        "    verbose=1  # Set to 1 to see messages about model saving\n",
        ")\n",
        "\n",
        "hist = model.fit(\n",
        "    train_ds,\n",
        "    epochs=EPOCHS, steps_per_epoch=steps_per_epoch).history\n",
        "    #validation_data=val_ds,\n",
        "    #validation_steps=validation_steps).history\n",
        "    #callbacks=[model_checkpoint_callback]).history\n",
        "\n",
        "#history = model.fit(train_generator, epochs=EPOCHS, validation_data=validation_generator, batch_size=16)"
      ]
    },
    {
      "cell_type": "code",
      "execution_count": null,
      "id": "5ec5186b",
      "metadata": {
        "execution": {
          "iopub.execute_input": "2024-01-03T07:01:54.443754Z",
          "iopub.status.busy": "2024-01-03T07:01:54.443401Z",
          "iopub.status.idle": "2024-01-03T07:01:54.447500Z",
          "shell.execute_reply": "2024-01-03T07:01:54.446603Z"
        },
        "papermill": {
          "duration": 0.66972,
          "end_time": "2024-01-03T07:01:54.449397",
          "exception": false,
          "start_time": "2024-01-03T07:01:53.779677",
          "status": "completed"
        },
        "tags": [],
        "id": "5ec5186b"
      },
      "outputs": [],
      "source": [
        "#print(train_generator.class_indices)"
      ]
    },
    {
      "cell_type": "code",
      "execution_count": null,
      "id": "a8afdbb0",
      "metadata": {
        "execution": {
          "iopub.execute_input": "2024-01-03T07:01:55.768613Z",
          "iopub.status.busy": "2024-01-03T07:01:55.767758Z",
          "iopub.status.idle": "2024-01-03T07:01:55.773759Z",
          "shell.execute_reply": "2024-01-03T07:01:55.772918Z"
        },
        "papermill": {
          "duration": 0.666488,
          "end_time": "2024-01-03T07:01:55.775635",
          "exception": false,
          "start_time": "2024-01-03T07:01:55.109147",
          "status": "completed"
        },
        "tags": [],
        "id": "a8afdbb0",
        "outputId": "10d85b74-e481-4fb4-dccb-0b0db3d22c15"
      },
      "outputs": [
        {
          "data": {
            "text/plain": [
              "\"import matplotlib.pyplot as plt\\n\\nplt.plot(history.history['accuracy'], label='accuracy')\\nplt.plot(history.history['val_accuracy'], label = 'val_accuracy')\\nplt.xlabel('Epoch')\\nplt.ylabel('Accuracy')\\nplt.ylim([0.5, 1])\\nplt.legend(loc='lower right')\""
            ]
          },
          "execution_count": 16,
          "metadata": {},
          "output_type": "execute_result"
        }
      ],
      "source": [
        "'''import matplotlib.pyplot as plt\n",
        "\n",
        "plt.plot(history.history['accuracy'], label='accuracy')\n",
        "plt.plot(history.history['val_accuracy'], label = 'val_accuracy')\n",
        "plt.xlabel('Epoch')\n",
        "plt.ylabel('Accuracy')\n",
        "plt.ylim([0.5, 1])\n",
        "plt.legend(loc='lower right')'''\n"
      ]
    },
    {
      "cell_type": "code",
      "execution_count": null,
      "id": "c4e6516c",
      "metadata": {
        "execution": {
          "iopub.execute_input": "2024-01-03T07:01:57.151678Z",
          "iopub.status.busy": "2024-01-03T07:01:57.151343Z",
          "iopub.status.idle": "2024-01-03T07:02:20.676935Z",
          "shell.execute_reply": "2024-01-03T07:02:20.676049Z"
        },
        "papermill": {
          "duration": 24.193217,
          "end_time": "2024-01-03T07:02:20.680447",
          "exception": false,
          "start_time": "2024-01-03T07:01:56.487230",
          "status": "completed"
        },
        "tags": [],
        "id": "c4e6516c"
      },
      "outputs": [],
      "source": [
        "model.save('model')"
      ]
    },
    {
      "cell_type": "code",
      "execution_count": null,
      "id": "d1526381",
      "metadata": {
        "papermill": {
          "duration": 0.718709,
          "end_time": "2024-01-03T07:02:22.066472",
          "exception": false,
          "start_time": "2024-01-03T07:02:21.347763",
          "status": "completed"
        },
        "tags": [],
        "id": "d1526381"
      },
      "outputs": [],
      "source": []
    }
  ],
  "metadata": {
    "kaggle": {
      "accelerator": "gpu",
      "dataSources": [
        {
          "databundleVersionId": 6924515,
          "sourceId": 45867,
          "sourceType": "competition"
        },
        {
          "datasetId": 4253631,
          "sourceId": 7328219,
          "sourceType": "datasetVersion"
        },
        {
          "modelInstanceId": 146,
          "sourceId": 207,
          "sourceType": "modelInstanceVersion"
        },
        {
          "modelInstanceId": 156,
          "sourceId": 223,
          "sourceType": "modelInstanceVersion"
        },
        {
          "modelInstanceId": 488,
          "sourceId": 621,
          "sourceType": "modelInstanceVersion"
        },
        {
          "modelInstanceId": 497,
          "sourceId": 630,
          "sourceType": "modelInstanceVersion"
        }
      ],
      "dockerImageVersionId": 30559,
      "isGpuEnabled": true,
      "isInternetEnabled": true,
      "language": "python",
      "sourceType": "notebook"
    },
    "kernelspec": {
      "display_name": "Python 3",
      "language": "python",
      "name": "python3"
    },
    "language_info": {
      "codemirror_mode": {
        "name": "ipython",
        "version": 3
      },
      "file_extension": ".py",
      "mimetype": "text/x-python",
      "name": "python",
      "nbconvert_exporter": "python",
      "pygments_lexer": "ipython3",
      "version": "3.10.12"
    },
    "papermill": {
      "default_parameters": {},
      "duration": 2290.057856,
      "end_time": "2024-01-03T07:02:26.257271",
      "environment_variables": {},
      "exception": null,
      "input_path": "__notebook__.ipynb",
      "output_path": "__notebook__.ipynb",
      "parameters": {},
      "start_time": "2024-01-03T06:24:16.199415",
      "version": "2.4.0"
    },
    "colab": {
      "provenance": [],
      "include_colab_link": true
    }
  },
  "nbformat": 4,
  "nbformat_minor": 5
}